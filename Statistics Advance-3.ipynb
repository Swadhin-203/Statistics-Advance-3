{
 "cells": [
  {
   "cell_type": "markdown",
   "id": "f30c92ea",
   "metadata": {},
   "source": [
    "# Q1: What is Estimation Statistics? Explain point estimate and interval estimate.\n",
    "Ans:Estimation statistics is a branch of statistics that deals with the process of using sample data to make inferences about a population. In other words, it involves estimating the characteristics of a population based on data collected from a sample of that population.\n",
    "\n",
    "There are two main types of estimates in estimation statistics: point estimate and interval estimate.\n",
    "\n",
    "Point Estimate: A point estimate is a single value that is used to estimate an unknown population parameter. It is usually calculated from a sample of data, and it provides an estimate of the true value of the population parameter.\n",
    "For example, suppose we want to estimate the average height of all students in a school. We could take a sample of students and calculate the average height of that sample. This value would be our point estimate of the population parameter, the average height of all students in the school.\n",
    "\n",
    "Interval Estimate: An interval estimate is a range of values that is used to estimate an unknown population parameter. It is calculated from a sample of data and provides an estimate of the range of possible values for the population parameter.\n",
    "For example, suppose we want to estimate the proportion of students in a school who prefer pizza over hamburgers. We could take a sample of students and calculate the proportion of students in that sample who prefer pizza. This value would be our point estimate of the population parameter, the proportion of students in the school who prefer pizza. However, we could also calculate an interval estimate by constructing a confidence interval. This would give us a range of values within which we can be confident that the true population parameter lies.\n",
    "\n",
    "In summary, point estimates provide a single value estimate of a population parameter, while interval estimates provide a range of values within which the true population parameter is likely to fall."
   ]
  },
  {
   "cell_type": "code",
   "execution_count": 7,
   "id": "beabd548",
   "metadata": {},
   "outputs": [
    {
     "name": "stdout",
     "output_type": "stream",
     "text": [
      "Population mean estimate with 95% confidence interval: (9.904930688349129, 10.6637147957323)\n"
     ]
    }
   ],
   "source": [
    "# Q2. Write a Python function to estimate the population mean using a sample mean and standard deviation.\n",
    "import numpy as np\n",
    "\n",
    "def estimate_pop_mean(sample_mean, sample_std_dev, sample_size):\n",
    "    \"\"\"\n",
    "    This function estimates the population mean given a sample mean, sample standard deviation,\n",
    "    and sample size using NumPy's random.normal() function.\n",
    "    \"\"\"\n",
    "    z_value = 1.96 # z-value for a 95% confidence interval\n",
    "    margin_of_error = z_value * (sample_std_dev / np.sqrt(sample_size))\n",
    "    lower_bound = sample_mean - margin_of_error\n",
    "    upper_bound = sample_mean + margin_of_error\n",
    "    return (lower_bound, upper_bound)\n",
    "\n",
    "sample = np.random.normal(10, 2, 100)\n",
    "\n",
    "sample_mean = np.mean(sample)\n",
    "sample_std_dev = np.std(sample, ddof=1)\n",
    "pop_mean_est = estimate_pop_mean(sample_mean, sample_std_dev, len(sample))\n",
    "print(\"Population mean estimate with 95% confidence interval:\", pop_mean_est)\n",
    "\n"
   ]
  },
  {
   "cell_type": "markdown",
   "id": "b157a5ca",
   "metadata": {},
   "source": [
    "# Q3: What is Hypothesis testing? Why is it used? State the importance of Hypothesis testing.\n",
    "Ans:Hypothesis testing is a statistical method used to make inferences about a population based on a sample of data. It involves setting up two mutually exclusive hypotheses - the null hypothesis (H0) and the alternative hypothesis (Ha) - and testing which one is supported by the data.\n",
    "\n",
    "The null hypothesis represents the default or current belief, while the alternative hypothesis represents a new or opposing belief. The aim of hypothesis testing is to determine if there is enough evidence to reject the null hypothesis in favor of the alternative hypothesis.\n",
    "\n",
    "Hypothesis testing is used to make decisions and draw conclusions about populations based on sample data. It is commonly used in scientific research to test theories, in quality control to check if products meet standards, and in business to make decisions based on data analysis.\n",
    "\n",
    "The importance of hypothesis testing lies in its ability to help us make objective and data-driven decisions. It allows us to determine whether the results of a study or experiment are statistically significant, and whether the conclusions we draw from the data are valid. It also helps us identify potential errors or biases in our data analysis, and can provide insights into the underlying population being studied.\n",
    "\n",
    "Overall, hypothesis testing is an essential tool for making informed decisions based on data, and is a fundamental aspect of statistical inference."
   ]
  },
  {
   "cell_type": "markdown",
   "id": "aebff03a",
   "metadata": {},
   "source": [
    "# Q4. Create a hypothesis that states whether the average weight of male college students is greater than the average weight of female college students.\n",
    "Ans:Null hypothesis: The average weight of male college students is not greater than the average weight of female college students.\n",
    "\n",
    "Alternative hypothesis: The average weight of male college students is greater than the average weight of female college students.\n",
    "\n",
    "To test this hypothesis, we would need to collect a sample of weights from both male and female college students, calculate the sample means, and perform a hypothesis test to determine if there is enough evidence to reject the null hypothesis in favor of the alternative hypothesis. This could be done using methods such as a t-test or a confidence interval."
   ]
  },
  {
   "cell_type": "code",
   "execution_count": 8,
   "id": "c8d52132",
   "metadata": {},
   "outputs": [
    {
     "name": "stdout",
     "output_type": "stream",
     "text": [
      "Sample 1 mean: 1.8874999999999997\n",
      "Sample 2 mean: 2.475\n",
      "t-statistic: -4.110894495351661\n",
      "p-value: 0.0010593575354172402\n",
      "Reject the null hypothesis. There is enough evidence to support the alternative hypothesis.\n"
     ]
    }
   ],
   "source": [
    "# Q5. Write a Python script to conduct a hypothesis test on the difference between two population means,\n",
    "# given a sample from each population.\n",
    "import numpy as np\n",
    "from scipy.stats import t\n",
    "\n",
    "# Define the sample data for two populations\n",
    "sample1 = [1.5, 2.1, 1.9, 2.2, 1.8, 2.3, 1.6, 1.7]\n",
    "sample2 = [2.5, 2.9, 2.2, 2.6, 2.1, 2.8, 2.3, 2.4]\n",
    "\n",
    "# Calculate the sample means and standard deviations\n",
    "mean1 = np.mean(sample1)\n",
    "mean2 = np.mean(sample2)\n",
    "std1 = np.std(sample1, ddof=1)\n",
    "std2 = np.std(sample2, ddof=1)\n",
    "\n",
    "# Set the significance level and degrees of freedom\n",
    "alpha = 0.05\n",
    "df = len(sample1) + len(sample2) - 2\n",
    "\n",
    "# Calculate the t-statistic and p-value\n",
    "s_pooled = np.sqrt(((len(sample1)-1)*std1**2 + (len(sample2)-1)*std2**2) / df)\n",
    "t_statistic = (mean1 - mean2) / (s_pooled * np.sqrt(1/len(sample1) + 1/len(sample2)))\n",
    "p_value = t.sf(abs(t_statistic), df) * 2\n",
    "\n",
    "# Print the results\n",
    "print(\"Sample 1 mean:\", mean1)\n",
    "print(\"Sample 2 mean:\", mean2)\n",
    "print(\"t-statistic:\", t_statistic)\n",
    "print(\"p-value:\", p_value)\n",
    "\n",
    "# Check if the null hypothesis is rejected or not\n",
    "if p_value < alpha:\n",
    "    print(\"Reject the null hypothesis. There is enough evidence to support the alternative hypothesis.\")\n",
    "else:\n",
    "    print(\"Fail to reject the null hypothesis. There is not enough evidence to support the alternative hypothesis.\")\n"
   ]
  },
  {
   "cell_type": "markdown",
   "id": "b85384c4",
   "metadata": {},
   "source": [
    "# Q6: What is a null and alternative hypothesis? Give some examples.\n",
    "Ans:In statistical hypothesis testing, a null hypothesis (denoted H0) is a statement that represents the status quo or the default assumption, while an alternative hypothesis (denoted Ha or H1) is a statement that represents a deviation from the null hypothesis. The null hypothesis and alternative hypothesis are used to frame a statistical test to determine if there is enough evidence to reject the null hypothesis and support the alternative hypothesis.\n",
    "\n",
    "Here are some examples of null and alternative hypotheses:\n",
    "\n",
    "Example for a one-sample t-test:\n",
    "Null hypothesis: The mean weight of apples in a population is 100 grams.\n",
    "Alternative hypothesis: The mean weight of apples in a population is not 100 grams.\n",
    "\n",
    "Example for a two-sample t-test:\n",
    "Null hypothesis: The mean height of male college students is equal to the mean height of female college students.\n",
    "Alternative hypothesis: The mean height of male college students is not equal to the mean height of female college students.\n",
    "\n",
    "Example for a chi-square test of independence:\n",
    "Null hypothesis: There is no association between smoking status and lung cancer.\n",
    "Alternative hypothesis: There is an association between smoking status and lung cancer.\n",
    "\n",
    "Example for a one-way ANOVA:\n",
    "Null hypothesis: The mean scores of three groups are equal.\n",
    "Alternative hypothesis: At least one mean score is different from the others.\n",
    "\n",
    "Example for a correlation test:\n",
    "Null hypothesis: There is no correlation between age and income.\n",
    "Alternative hypothesis: There is a correlation between age and income.\n"
   ]
  },
  {
   "cell_type": "markdown",
   "id": "f5f78753",
   "metadata": {},
   "source": [
    "# Q7: Write down the steps involved in hypothesis testing.\n",
    "Ans:Here are the steps involved in hypothesis testing:\n",
    "\n",
    "Formulate a research question: Identify the research question that needs to be answered, and the variables of interest.\n",
    "\n",
    "Define the null and alternative hypotheses: Formulate a null hypothesis (H0) and an alternative hypothesis (Ha) that represent the possible outcomes of the research question.\n",
    "\n",
    "Determine the level of significance: Choose the level of significance (alpha), which represents the maximum probability of rejecting the null hypothesis when it is actually true. Common values of alpha are 0.05, 0.01, and 0.001.\n",
    "\n",
    "Collect and analyze data: Collect a sample of data from the population of interest, and perform statistical analysis to compute the test statistic and p-value.\n",
    "\n",
    "Interpret the results: Compare the p-value to the level of significance to determine if there is enough evidence to reject the null hypothesis. If the p-value is less than or equal to alpha, reject the null hypothesis in favor of the alternative hypothesis. Otherwise, fail to reject the null hypothesis.\n",
    "\n",
    "Draw conclusions: Based on the results of the hypothesis test, draw conclusions and make decisions about the research question.\n",
    "\n",
    "Communicate the results: Communicate the results of the hypothesis test, including the null and alternative hypotheses, the test statistic, the p-value, and the conclusion, to relevant stakeholders.\n"
   ]
  },
  {
   "cell_type": "markdown",
   "id": "c207335e",
   "metadata": {},
   "source": [
    "# Q8. Define p-value and explain its significance in hypothesis testing.\n",
    "Ans:In hypothesis testing, the p-value is the probability of observing a test statistic as extreme as, or more extreme than, the one computed from the sample data, assuming that the null hypothesis is true. The p-value is a measure of the strength of the evidence against the null hypothesis, and it is used to make a decision about whether to reject or fail to reject the null hypothesis.\n",
    "\n",
    "If the p-value is small (typically less than the chosen level of significance), it indicates that the observed results are unlikely to have occurred by chance alone, and we reject the null hypothesis in favor of the alternative hypothesis. If the p-value is large (typically greater than the chosen level of significance), it indicates that the observed results are likely to have occurred by chance alone, and we fail to reject the null hypothesis.\n",
    "\n",
    "The significance of the p-value in hypothesis testing is that it provides a standardized way to quantify the evidence against the null hypothesis, and to make objective decisions based on that evidence. The p-value helps to avoid making decisions based on subjective judgments or personal biases, and to ensure that decisions are based on statistical evidence."
   ]
  },
  {
   "cell_type": "code",
   "execution_count": 9,
   "id": "1bde6cd9",
   "metadata": {},
   "outputs": [
    {
     "data": {
      "image/png": "[encoded data removed]",
      "text/plain": [
       "<Figure size 640x480 with 1 Axes>"
      ]
     },
     "metadata": {},
     "output_type": "display_data"
    }
   ],
   "source": [
    "# Q9. Generate a Student's t-distribution plot using Python's matplotlib library, with the degrees of freedom\n",
    "# parameter set to 10.\n",
    "import numpy as np\n",
    "import matplotlib.pyplot as plt\n",
    "\n",
    "x = np.linspace(-4, 4, num=1000)\n",
    "\n",
    "df = 10\n",
    "y = np.random.standard_t(df, size=1000)\n",
    "\n",
    "fig, ax = plt.subplots()\n",
    "ax.plot(x, stats.t.pdf(x, df), 'r-', lw=2, alpha=0.6, label='t pdf')\n",
    "\n",
    "ax.fill_between(x, 0, stats.t.pdf(x, df), where=(x > 1.8), color='green', alpha=0.5)\n",
    "ax.fill_between(x, 0, stats.t.pdf(x, df), where=(x < -1.8), color='green', alpha=0.5)\n",
    "\n",
    "ax.set_xlabel('x')\n",
    "ax.set_ylabel('Probability density')\n",
    "ax.set_title('Student\\'s t-Distribution (df=10)')\n",
    "\n",
    "plt.show()\n"
   ]
  },
  {
   "cell_type": "code",
   "execution_count": 10,
   "id": "5a3b7d9e",
   "metadata": {},
   "outputs": [
    {
     "name": "stdout",
     "output_type": "stream",
     "text": [
      "t-statistic: -6.65\n",
      "p-value: 0.000\n",
      "Reject the null hypothesis\n"
     ]
    }
   ],
   "source": [
    "# Q10. Write a Python program to calculate the two-sample t-test for independent samples, given two\n",
    "# random samples of equal size and a null hypothesis that the population means are equal.\n",
    "import numpy as np\n",
    "from scipy.stats import ttest_ind\n",
    "\n",
    "# Generate two random samples of equal size\n",
    "sample1 = np.random.normal(10, 2, size=100)\n",
    "sample2 = np.random.normal(12, 2, size=100)\n",
    "\n",
    "# Calculate the t-statistic and p-value using the ttest_ind function\n",
    "t_stat, p_val = ttest_ind(sample1, sample2)\n",
    "\n",
    "# Print the results\n",
    "print(\"t-statistic: {:.2f}\".format(t_stat))\n",
    "print(\"p-value: {:.3f}\".format(p_val))\n",
    "\n",
    "# Check the p-value against the significance level (e.g., 0.05) to determine if the null hypothesis should be rejected\n",
    "if p_val < 0.05:\n",
    "    print(\"Reject the null hypothesis\")\n",
    "else:\n",
    "    print(\"Fail to reject the null hypothesis\")\n"
   ]
  },
  {
   "cell_type": "markdown",
   "id": "8aca3286",
   "metadata": {},
   "source": [
    "# Q11: What is Student’s t distribution? When to use the t-Distribution.\n",
    "Ans:The Student's t-distribution is a probability distribution that arises when estimating the population mean of a normally distributed variable, where the sample size is small or the population variance is unknown. It is similar to the normal distribution, but with heavier tails.\n",
    "\n",
    "The t-distribution is used in hypothesis testing when the sample size is small (typically less than 30) or the population variance is unknown, and the sample data is approximately normally distributed. In such cases, the t-distribution provides a more appropriate test statistic than the standard normal distribution.\n",
    "\n",
    "The t-distribution is also used in confidence intervals for the population mean, where the sample size is small or the population variance is unknown. The confidence interval for the population mean is wider for smaller sample sizes, reflecting the increased uncertainty due to the smaller sample size.\n",
    "\n",
    "In summary, the t-distribution is used when:\n",
    "\n",
    "The sample size is small (typically less than 30).\n",
    "The population variance is unknown.\n",
    "The sample data is approximately normally distributed.\n",
    "Hypothesis testing or confidence intervals are being performed for the population mean."
   ]
  },
  {
   "cell_type": "markdown",
   "id": "29a9bb21",
   "metadata": {},
   "source": [
    "# Q12: What is t-statistic? State the formula for t-statistic.\n",
    "Ans:The t-statistic is a measure of how many standard errors the sample mean is away from the hypothesized population mean. It is used in hypothesis testing to determine whether the difference between two sample means is statistically significant.\n",
    "\n",
    "The formula for the t-statistic is:\n",
    "\n",
    "t = (x̄1 - x̄2) / (s√(1/n1 + 1/n2))\n",
    "\n",
    "where:\n",
    "\n",
    "x̄1 and x̄2 are the sample means of two independent samples\n",
    "s is the pooled standard deviation of the two samples\n",
    "n1 and n2 are the sample sizes of the two samples\n",
    "The t-statistic formula is used to calculate the test statistic that is compared to the critical value of the t-distribution to determine whether to reject or fail to reject the null hypothesis. If the calculated t-statistic is greater than the critical value, we reject the null hypothesis, which means that there is a statistically significant difference between the two sample means. Conversely, if the calculated t-statistic is less than the critical value, we fail to reject the null hypothesis, which means that there is no statistically significant difference between the two sample means."
   ]
  },
  {
   "cell_type": "code",
   "execution_count": 11,
   "id": "eed06a2f",
   "metadata": {},
   "outputs": [
    {
     "name": "stdout",
     "output_type": "stream",
     "text": [
      "The population mean revenue with a 95% confidence interval is: ($485.79, $514.21)\n"
     ]
    }
   ],
   "source": [
    "# Q13. A coffee shop owner wants to estimate the average daily revenue for their shop. They take a random\n",
    "# sample of 50 days and find the sample mean revenue to be $500 with a standard deviation of $50.\n",
    "# Estimate the population mean revenue with a 95% confidence interval.\n",
    "import scipy.stats as stats\n",
    "import math\n",
    "\n",
    "# Sample data\n",
    "sample_mean = 500\n",
    "sample_std = 50\n",
    "sample_size = 50\n",
    "alpha = 0.05 # 95% confidence level\n",
    "\n",
    "# Calculate the t-value for the confidence level and degrees of freedom\n",
    "t = stats.t.ppf(1 - alpha / 2, sample_size - 1)\n",
    "\n",
    "# Calculate the margin of error\n",
    "moe = t * sample_std / math.sqrt(sample_size)\n",
    "\n",
    "# Calculate the confidence interval\n",
    "lower = sample_mean - moe\n",
    "upper = sample_mean + moe\n",
    "\n",
    "# Print the results\n",
    "print(\"The population mean revenue with a 95% confidence interval is: (${:.2f}, ${:.2f})\".format(lower, upper))\n"
   ]
  },
  {
   "cell_type": "markdown",
   "id": "1122ce96",
   "metadata": {},
   "source": [
    "# Q14. A researcher hypothesizes that a new drug will decrease blood pressure by 10 mmHg. They conduct a clinical trial with 100 patients and find that the sample mean decrease in blood pressure is 8 mmHg with a standard deviation of 3 mmHg. Test the hypothesis with a significance level of 0.05.\n",
    "Ans:To test the hypothesis, we need to set up the null and alternative hypotheses. In this case:\n",
    "\n",
    "Null hypothesis (H0): The new drug does not decrease blood pressure by 10 mmHg (μ = 10)\n",
    "Alternative hypothesis (HA): The new drug decreases blood pressure by 10 mmHg (μ < 10)\n",
    "We will use a one-tailed test with a significance level of 0.05.\n",
    "\n",
    "We can calculate the t-value and p-value using the following Python code:"
   ]
  },
  {
   "cell_type": "code",
   "execution_count": 12,
   "id": "6d9c6542",
   "metadata": {},
   "outputs": [
    {
     "name": "stdout",
     "output_type": "stream",
     "text": [
      "t-value: -6.67\n",
      "p-value: 0.0000\n",
      "Reject the null hypothesis\n"
     ]
    }
   ],
   "source": [
    "import math\n",
    "import scipy.stats as stats\n",
    "\n",
    "# Sample data\n",
    "sample_mean = 8\n",
    "pop_mean = 10\n",
    "sample_std = 3\n",
    "sample_size = 100\n",
    "alpha = 0.05\n",
    "\n",
    "# Calculate the t-value\n",
    "t_value = (sample_mean - pop_mean) / (sample_std / math.sqrt(sample_size))\n",
    "\n",
    "# Calculate the p-value\n",
    "p_value = stats.t.cdf(t_value, sample_size - 1)\n",
    "\n",
    "# Print the results\n",
    "print(\"t-value: {:.2f}\".format(t_value))\n",
    "print(\"p-value: {:.4f}\".format(p_value))\n",
    "\n",
    "# Check if p-value is less than alpha\n",
    "if p_value < alpha:\n",
    "    print(\"Reject the null hypothesis\")\n",
    "else:\n",
    "    print(\"Fail to reject the null hypothesis\")\n"
   ]
  },
  {
   "cell_type": "markdown",
   "id": "03d1a9cd",
   "metadata": {},
   "source": [
    "# Q15. An electronics company produces a certain type of product with a mean weight of 5 pounds and a standard deviation of 0.5 pounds. A random sample of 25 products is taken, and the sample mean weight is found to be 4.8 pounds. Test the hypothesis that the true mean weight of the products is less than 5  pounds with a significance level of 0.01.\n",
    "Ans:Given:\n",
    "\n",
    "Population mean (μ) = 5 pounds\n",
    "Population standard deviation (σ) = 0.5 pounds\n",
    "Sample size (n) = 25\n",
    "Sample mean (x̄) = 4.8 pounds\n",
    "Significance level (α) = 0.01 (for one-tailed test)\n",
    "Null Hypothesis:\n",
    "H0: μ >= 5 (The true mean weight of the products is greater than or equal to 5 pounds)\n",
    "\n",
    "Alternative Hypothesis:\n",
    "Ha: μ < 5 (The true mean weight of the products is less than 5 pounds)\n",
    "\n",
    "Since the sample size is greater than 30 and population standard deviation is known, we can use a z-test.\n",
    "\n",
    "The test statistic can be calculated as follows:\n",
    "\n",
    "z = (x̄ - μ) / (σ / sqrt(n))\n",
    "z = (4.8 - 5) / (0.5 / sqrt(25))\n",
    "z = -2\n",
    "\n",
    "The corresponding p-value can be obtained from a standard normal table or using a calculator. A p-value of less than the significance level of 0.01 indicates strong evidence against the null hypothesis.\n",
    "\n",
    "p-value = P(Z < -2) = 0.0228\n",
    "\n",
    "Since the p-value is less than the significance level, we reject the null hypothesis. Therefore, we can conclude that the true mean weight of the products is less than 5 pounds.\n",
    "\n",
    "Conclusion: The sample provides strong evidence that the true mean weight of the products is less than 5 pounds at a significance level of 0.01.\n"
   ]
  },
  {
   "cell_type": "markdown",
   "id": "94aa509b",
   "metadata": {},
   "source": [
    "# Q16. Two groups of students are given different study materials to prepare for a test. The first group (n1 =30) has a mean score of 80 with a standard deviation of 10, and the second group (n2 = 40) has a mean score of 75 with a standard deviation of 8. Test the hypothesis that the population means for the two groups are equal with a significance level of 0.01.\n",
    "Ans:We can use a two-sample t-test to test the hypothesis that the population means for the two groups are equal.\n",
    "\n",
    "The null hypothesis is that the population means are equal, and the alternative hypothesis is that they are not equal.\n",
    "\n",
    "Ho: mu1 = mu2\n",
    "Ha: mu1 != mu2\n",
    "\n",
    "We will use a significance level of 0.01.\n",
    "\n",
    "We can use the following formula to calculate the t-statistic:\n",
    "\n",
    "t = (x1 - x2) / sqrt((s1^2/n1) + (s2^2/n2))\n",
    "\n",
    "where x1 and x2 are the sample means, s1 and s2 are the sample standard deviations, and n1 and n2 are the sample sizes."
   ]
  },
  {
   "cell_type": "markdown",
   "id": "edb45095",
   "metadata": {},
   "source": [
    "# Q17. A marketing company wants to estimate the average number of ads watched by viewers during a TV program. They take a random sample of 50 viewers and find that the sample mean is 4 with a standard deviation of 1.5. Estimate the population mean with a 99% confidence interval.\n",
    "Ans:To estimate the population mean with a 99% confidence interval, we can use the formula:\n",
    "\n",
    "Confidence Interval = sample_mean ± z-value * (sample_std_dev / sqrt(sample_size))\n",
    "\n",
    "Here, the z-value for a 99% confidence interval is 2.576.\n",
    "\n",
    "Substituting the given values, we get:\n",
    "\n",
    "Confidence Interval = 4 ± 2.576 * (1.5 / sqrt(50))\n",
    "\n",
    "Calculating the values, we get:\n",
    "\n",
    "Confidence Interval = (3.37, 4.63)\n",
    "\n",
    "Therefore, we can say with 99% confidence that the true population mean of the number of ads watched by viewers during a TV program lies between 3.37 and 4.63."
   ]
  },
  {
   "cell_type": "code",
   "execution_count": null,
   "id": "b2231cd3",
   "metadata": {},
   "outputs": [],
   "source": []
  }
 ],
 "metadata": {
  "kernelspec": {
   "display_name": "Python 3 (ipykernel)",
   "language": "python",
   "name": "python3"
  },
  "language_info": {
   "codemirror_mode": {
    "name": "ipython",
    "version": 3
   },
   "file_extension": ".py",
   "mimetype": "text/x-python",
   "name": "python",
   "nbconvert_exporter": "python",
   "pygments_lexer": "ipython3",
   "version": "3.10.5"
  }
 },
 "nbformat": 4,
 "nbformat_minor": 5
}
